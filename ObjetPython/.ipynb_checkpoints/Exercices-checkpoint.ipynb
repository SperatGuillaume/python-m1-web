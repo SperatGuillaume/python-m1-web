{
 "cells": [
  {
   "cell_type": "code",
   "execution_count": 15,
   "metadata": {},
   "outputs": [
    {
     "name": "stdout",
     "output_type": "stream",
     "text": [
      "Nom: Duchmol  Solde: 900\n",
      "Nom: Duchmol  Solde: 1025\n"
     ]
    }
   ],
   "source": [
    "class CompteBancaire:\n",
    "    def __init__(self, nom = \"Duchmol\", solde = 1000):\n",
    "        self.nom = nom\n",
    "        self.solde = solde\n",
    "    def depot(self, somme):\n",
    "        self.solde += somme\n",
    "    def retrait(self, somme):\n",
    "        self.solde -= somme\n",
    "    def affiche(self):\n",
    "        print(\"Nom:\", self.nom, \" Solde:\", self.solde)\n",
    "        \n",
    "        \n",
    "compte1 = CompteBancaire('Duchmol', 800)\n",
    "compte1.depot(300)\n",
    "compte1.retrait(200)\n",
    "compte1.affiche()\n",
    "compte2 = CompteBancaire()\n",
    "compte2.depot(25)\n",
    "compte2.affiche()"
   ]
  },
  {
   "cell_type": "code",
   "execution_count": 23,
   "metadata": {},
   "outputs": [
    {
     "name": "stdout",
     "output_type": "stream",
     "text": [
      "2 3\n",
      "1 -5 6\n"
     ]
    }
   ],
   "source": [
    "class Point:\n",
    "    def __init__(self, x, y, z = None):\n",
    "        self.x = x\n",
    "        self.y = y\n",
    "        self.z = z\n",
    "    def ToString(self):\n",
    "        if self.z == None :\n",
    "            print(self.x,2, self.y)\n",
    "        else:\n",
    "            print(self.x, self.y, self.z)\n",
    "        \n",
    "p1 = Point(2,3)\n",
    "p1.ToString()\n",
    "p2 = Point(1,-5,6)\n",
    "p2.ToString()"
   ]
  },
  {
   "cell_type": "code",
   "execution_count": 28,
   "metadata": {},
   "outputs": [
    {
     "ename": "TypeError",
     "evalue": "can only concatenate str (not \"int\") to str",
     "output_type": "error",
     "traceback": [
      "\u001b[1;31m---------------------------------------------------------------------------\u001b[0m",
      "\u001b[1;31mTypeError\u001b[0m                                 Traceback (most recent call last)",
      "\u001b[1;32m<ipython-input-28-27c795bb42ae>\u001b[0m in \u001b[0;36m<module>\u001b[1;34m\u001b[0m\n\u001b[0;32m     22\u001b[0m \u001b[1;33m\u001b[0m\u001b[0m\n\u001b[0;32m     23\u001b[0m \u001b[0mp\u001b[0m\u001b[1;33m=\u001b[0m \u001b[0mPersonne\u001b[0m\u001b[1;33m(\u001b[0m\u001b[1;34m\"Ilyass\"\u001b[0m\u001b[1;33m,\u001b[0m\u001b[1;34m\"Math\"\u001b[0m\u001b[1;33m,\u001b[0m\u001b[0mDateNaissance\u001b[0m\u001b[1;33m(\u001b[0m\u001b[1;36m1\u001b[0m\u001b[1;33m,\u001b[0m\u001b[1;36m7\u001b[0m\u001b[1;33m,\u001b[0m\u001b[1;36m1982\u001b[0m\u001b[1;33m)\u001b[0m\u001b[1;33m)\u001b[0m\u001b[1;33m\u001b[0m\u001b[1;33m\u001b[0m\u001b[0m\n\u001b[1;32m---> 24\u001b[1;33m \u001b[0mp\u001b[0m\u001b[1;33m.\u001b[0m\u001b[0mafficher\u001b[0m\u001b[1;33m(\u001b[0m\u001b[1;33m)\u001b[0m\u001b[1;33m\u001b[0m\u001b[1;33m\u001b[0m\u001b[0m\n\u001b[0m",
      "\u001b[1;32m<ipython-input-28-27c795bb42ae>\u001b[0m in \u001b[0;36mafficher\u001b[1;34m(self)\u001b[0m\n\u001b[0;32m     12\u001b[0m         \u001b[0mself\u001b[0m\u001b[1;33m.\u001b[0m\u001b[0mdate_de_naissance\u001b[0m \u001b[1;33m=\u001b[0m \u001b[0mdate_de_naissance\u001b[0m\u001b[1;33m\u001b[0m\u001b[1;33m\u001b[0m\u001b[0m\n\u001b[0;32m     13\u001b[0m     \u001b[1;32mdef\u001b[0m \u001b[0mafficher\u001b[0m\u001b[1;33m(\u001b[0m\u001b[0mself\u001b[0m\u001b[1;33m)\u001b[0m\u001b[1;33m:\u001b[0m\u001b[1;33m\u001b[0m\u001b[1;33m\u001b[0m\u001b[0m\n\u001b[1;32m---> 14\u001b[1;33m         \u001b[0mprint\u001b[0m\u001b[1;33m(\u001b[0m\u001b[1;34m\"Nom:\"\u001b[0m\u001b[1;33m,\u001b[0m \u001b[0mself\u001b[0m\u001b[1;33m.\u001b[0m\u001b[0mnom\u001b[0m\u001b[1;33m,\u001b[0m \u001b[1;34m\" Prenom:\"\u001b[0m\u001b[1;33m,\u001b[0m \u001b[0mself\u001b[0m\u001b[1;33m.\u001b[0m\u001b[0mprenom\u001b[0m\u001b[1;33m,\u001b[0m \u001b[1;34m\" Date de naissance:\"\u001b[0m\u001b[1;33m,\u001b[0m \u001b[0mDateNaissance\u001b[0m\u001b[1;33m.\u001b[0m\u001b[0mToString\u001b[0m\u001b[1;33m(\u001b[0m\u001b[0mself\u001b[0m\u001b[1;33m.\u001b[0m\u001b[0mdate_de_naissance\u001b[0m\u001b[1;33m)\u001b[0m\u001b[1;33m)\u001b[0m\u001b[1;33m\u001b[0m\u001b[1;33m\u001b[0m\u001b[0m\n\u001b[0m\u001b[0;32m     15\u001b[0m \u001b[1;32mclass\u001b[0m \u001b[0mEmploye\u001b[0m\u001b[1;33m(\u001b[0m\u001b[0mPersonne\u001b[0m\u001b[1;33m)\u001b[0m\u001b[1;33m:\u001b[0m\u001b[1;33m\u001b[0m\u001b[1;33m\u001b[0m\u001b[0m\n\u001b[0;32m     16\u001b[0m     \u001b[1;32mdef\u001b[0m \u001b[0m__init__\u001b[0m\u001b[1;33m(\u001b[0m\u001b[0mself\u001b[0m\u001b[1;33m,\u001b[0m \u001b[0mnom\u001b[0m\u001b[1;33m,\u001b[0m \u001b[0mprenom\u001b[0m\u001b[1;33m,\u001b[0m \u001b[0mdate_de_naissance\u001b[0m\u001b[1;33m,\u001b[0m \u001b[0msalaire\u001b[0m\u001b[1;33m)\u001b[0m\u001b[1;33m:\u001b[0m\u001b[1;33m\u001b[0m\u001b[1;33m\u001b[0m\u001b[0m\n",
      "\u001b[1;32m<ipython-input-28-27c795bb42ae>\u001b[0m in \u001b[0;36mToString\u001b[1;34m(self)\u001b[0m\n\u001b[0;32m      5\u001b[0m         \u001b[0mself\u001b[0m\u001b[1;33m.\u001b[0m\u001b[0mannee\u001b[0m \u001b[1;33m=\u001b[0m \u001b[0mannee\u001b[0m\u001b[1;33m\u001b[0m\u001b[1;33m\u001b[0m\u001b[0m\n\u001b[0;32m      6\u001b[0m     \u001b[1;32mdef\u001b[0m \u001b[0mToString\u001b[0m\u001b[1;33m(\u001b[0m\u001b[0mself\u001b[0m\u001b[1;33m)\u001b[0m\u001b[1;33m:\u001b[0m\u001b[1;33m\u001b[0m\u001b[1;33m\u001b[0m\u001b[0m\n\u001b[1;32m----> 7\u001b[1;33m         \u001b[1;32mreturn\u001b[0m \u001b[1;34m\"Jour:\"\u001b[0m \u001b[1;33m+\u001b[0m \u001b[0mself\u001b[0m\u001b[1;33m.\u001b[0m\u001b[0mjour\u001b[0m \u001b[1;33m+\u001b[0m \u001b[1;34m\" Mois:\"\u001b[0m \u001b[1;33m+\u001b[0m \u001b[0mself\u001b[0m\u001b[1;33m.\u001b[0m\u001b[0mmois\u001b[0m \u001b[1;33m+\u001b[0m\u001b[1;34m\" Année:\"\u001b[0m \u001b[1;33m+\u001b[0m\u001b[0mself\u001b[0m\u001b[1;33m.\u001b[0m\u001b[0mannee\u001b[0m\u001b[1;33m\u001b[0m\u001b[1;33m\u001b[0m\u001b[0m\n\u001b[0m\u001b[0;32m      8\u001b[0m \u001b[1;32mclass\u001b[0m \u001b[0mPersonne\u001b[0m\u001b[1;33m:\u001b[0m\u001b[1;33m\u001b[0m\u001b[1;33m\u001b[0m\u001b[0m\n\u001b[0;32m      9\u001b[0m     \u001b[1;32mdef\u001b[0m \u001b[0m__init__\u001b[0m\u001b[1;33m(\u001b[0m\u001b[0mself\u001b[0m\u001b[1;33m,\u001b[0m \u001b[0mnom\u001b[0m\u001b[1;33m,\u001b[0m \u001b[0mprenom\u001b[0m\u001b[1;33m,\u001b[0m \u001b[0mdate_de_naissance\u001b[0m\u001b[1;33m)\u001b[0m\u001b[1;33m:\u001b[0m\u001b[1;33m\u001b[0m\u001b[1;33m\u001b[0m\u001b[0m\n",
      "\u001b[1;31mTypeError\u001b[0m: can only concatenate str (not \"int\") to str"
     ]
    }
   ],
   "source": [
    "class DateNaissance:\n",
    "    def __init__(self, jour, mois, annee):\n",
    "        self.jour = jour\n",
    "        self.mois = mois\n",
    "        self.annee = annee\n",
    "    def ToString(self):\n",
    "        return \"Jour:\" + self.jour + \" Mois:\" + self.mois +\" Année:\" +self.annee\n",
    "class Personne:\n",
    "    def __init__(self, nom, prenom, date_de_naissance):\n",
    "        self.nom = nom\n",
    "        self.prenom = prenom\n",
    "        self.date_de_naissance = date_de_naissance\n",
    "    def afficher(self):\n",
    "        print(\"Nom:\", self.nom, \" Prenom:\", self.prenom, \" Date de naissance:\", DateNaissance.ToString(self.date_de_naissance))\n",
    "class Employe(Personne):\n",
    "    def __init__(self, nom, prenom, date_de_naissance, salaire):\n",
    "        Personne.__init__(self, nom, prenom, date_de_naissance)\n",
    "        self.salaire = salaire\n",
    "    def afficher(self):\n",
    "        Personne.afficher(self)\n",
    "        print(\"Salaire:\", self.salaire)\n",
    "        \n",
    "p= Personne(\"Ilyass\",\"Math\",DateNaissance(1,7,1982))\n",
    "p.afficher()"
   ]
  },
  {
   "cell_type": "code",
   "execution_count": null,
   "metadata": {},
   "outputs": [],
   "source": []
  }
 ],
 "metadata": {
  "kernelspec": {
   "display_name": "Python 3",
   "language": "python",
   "name": "python3"
  },
  "language_info": {
   "codemirror_mode": {
    "name": "ipython",
    "version": 3
   },
   "file_extension": ".py",
   "mimetype": "text/x-python",
   "name": "python",
   "nbconvert_exporter": "python",
   "pygments_lexer": "ipython3",
   "version": "3.7.6"
  }
 },
 "nbformat": 4,
 "nbformat_minor": 4
}
