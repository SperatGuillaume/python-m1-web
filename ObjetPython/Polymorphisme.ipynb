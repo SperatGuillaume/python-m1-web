{
 "cells": [
  {
   "cell_type": "code",
   "execution_count": 10,
   "metadata": {},
   "outputs": [
    {
     "name": "stdout",
     "output_type": "stream",
     "text": [
      "Lettre:\n",
      "Adresse destination: Lille \n",
      "Adresse expedition: Paris \n",
      "Poids: 80  grammes\n",
      "Mode normal \n",
      "Format: A4 \n",
      "Prix du timbre : 2.58\n",
      "Colis:\n",
      "Adresse destination: Marrakeche \n",
      "Adresse expedition: Barcelone \n",
      "Poids: 3500  grammes\n",
      "Mode expresse \n",
      "Volume: 2.25 litres\n",
      "Prix du timbre : 3937.5\n"
     ]
    }
   ],
   "source": [
    "class Lettre:\n",
    "    def __init__(self, adresse_destination, adresse_expedition, poids, mode_expedition, format):\n",
    "        self.poids = poids\n",
    "        self.mode_expedition = mode_expedition\n",
    "        self.adresse_destination = adresse_destination\n",
    "        self.adresse_expedition = adresse_expedition\n",
    "        self.format = format\n",
    "    def calculTimbre(self):\n",
    "        tarif_de_base = 2.50 if self.format == \"A4\" else 3.50\n",
    "        if(self.mode_expedition == \"normal\"):\n",
    "            return tarif_de_base + 1 * (self.poids / 1000)\n",
    "        else:\n",
    "            return (tarif_de_base + 1 * (self.poids / 1000)) * 2 \n",
    "    def ToString(self):\n",
    "        montant = self.calculTimbre()\n",
    "        print(\"Lettre:\\nAdresse destination:\", self.adresse_destination, \"\\nAdresse expedition:\", self.adresse_expedition, \"\\nPoids:\", self.poids,\" grammes\\nMode\", self.mode_expedition,\"\\nFormat:\", self.format, \"\\nPrix du timbre :\", montant)\n",
    "class Colis:\n",
    "    def __init__(self, adresse_destination, adresse_expedition, poids, mode_expedition, volume):\n",
    "        self.poids = poids\n",
    "        self.mode_expedition = mode_expedition\n",
    "        self.adresse_destination = adresse_destination\n",
    "        self.adresse_expedition = adresse_expedition\n",
    "        self.format = format\n",
    "        self.volume = volume\n",
    "    def calculTimbre(self):\n",
    "        if(self.mode_expedition == \"normal\"):\n",
    "            return 0.25 * self.volume * self.poids * 1\n",
    "        else:\n",
    "            return (0.25 * self.volume * self.poids * 1) * 2 \n",
    "    def ToString(self):\n",
    "        montant = self.calculTimbre()\n",
    "        print(\"Colis:\\nAdresse destination:\", self.adresse_destination, \"\\nAdresse expedition:\", self.adresse_expedition, \"\\nPoids:\", self.poids,\" grammes\\nMode\", self.mode_expedition, \"\\nVolume:\", self.volume, \"litres\\nPrix du timbre :\", montant)\n",
    "        \n",
    "l1=Lettre(\"Lille\",\"Paris\",80,\"normal\",\"A4\")\n",
    "l1.ToString()\n",
    "c1=Colis(\"Marrakeche\",\"Barcelone\",3500,\"expresse\",2.25)\n",
    "c1.ToString()"
   ]
  },
  {
   "cell_type": "code",
   "execution_count": null,
   "metadata": {},
   "outputs": [],
   "source": []
  }
 ],
 "metadata": {
  "kernelspec": {
   "display_name": "Python 3",
   "language": "python",
   "name": "python3"
  },
  "language_info": {
   "codemirror_mode": {
    "name": "ipython",
    "version": 3
   },
   "file_extension": ".py",
   "mimetype": "text/x-python",
   "name": "python",
   "nbconvert_exporter": "python",
   "pygments_lexer": "ipython3",
   "version": "3.7.6"
  }
 },
 "nbformat": 4,
 "nbformat_minor": 4
}
