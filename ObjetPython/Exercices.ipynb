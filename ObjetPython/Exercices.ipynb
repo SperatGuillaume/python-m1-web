{
 "cells": [
  {
   "cell_type": "code",
   "execution_count": 15,
   "metadata": {},
   "outputs": [
    {
     "name": "stdout",
     "output_type": "stream",
     "text": [
      "Nom: Duchmol  Solde: 900\n",
      "Nom: Duchmol  Solde: 1025\n"
     ]
    }
   ],
   "source": [
    "class CompteBancaire:\n",
    "    def __init__(self, nom = \"Duchmol\", solde = 1000):\n",
    "        self.nom = nom\n",
    "        self.solde = solde\n",
    "    def depot(self, somme):\n",
    "        self.solde += somme\n",
    "    def retrait(self, somme):\n",
    "        self.solde -= somme\n",
    "    def affiche(self):\n",
    "        print(\"Nom:\", self.nom, \" Solde:\", self.solde)\n",
    "        \n",
    "        \n",
    "compte1 = CompteBancaire('Duchmol', 800)\n",
    "compte1.depot(300)\n",
    "compte1.retrait(200)\n",
    "compte1.affiche()\n",
    "compte2 = CompteBancaire()\n",
    "compte2.depot(25)\n",
    "compte2.affiche()"
   ]
  },
  {
   "cell_type": "code",
   "execution_count": 23,
   "metadata": {},
   "outputs": [
    {
     "name": "stdout",
     "output_type": "stream",
     "text": [
      "2 3\n",
      "1 -5 6\n"
     ]
    }
   ],
   "source": [
    "class Point:\n",
    "    def __init__(self, x, y, z = None):\n",
    "        self.x = x\n",
    "        self.y = y\n",
    "        self.z = z\n",
    "    def ToString(self):\n",
    "        if self.z == None :\n",
    "            print(self.x,2, self.y)\n",
    "        else:\n",
    "            print(self.x, self.y, self.z)\n",
    "        \n",
    "p1 = Point(2,3)\n",
    "p1.ToString()\n",
    "p2 = Point(1,-5,6)\n",
    "p2.ToString()"
   ]
  },
  {
   "cell_type": "code",
   "execution_count": 35,
   "metadata": {},
   "outputs": [
    {
     "name": "stdout",
     "output_type": "stream",
     "text": [
      "Nom: Ilyass \n",
      "Prenom: Math \n",
      "Date de naissance: 1 / 7 / 1982\n",
      "Nom: Ilyass \n",
      "Prenom: Math \n",
      "Date de naissance: 1 / 7 / 1985\n",
      "Salaire: 7865.548\n",
      "Nom: Ilyass \n",
      "Prenom: Math \n",
      "Date de naissance: 1 / 7 / 1988\n",
      "Salaire: 7865.548\n",
      "Service: Ressource humaine\n"
     ]
    }
   ],
   "source": [
    "class DateNaissance:\n",
    "    def __init__(self, jour, mois, annee):\n",
    "        self.jour = jour\n",
    "        self.mois = mois\n",
    "        self.annee = annee\n",
    "    def ToString(self):\n",
    "        return str(self.jour) + \" / \" + str(self.mois) +\" / \" + str(self.annee)\n",
    "class Personne:\n",
    "    def __init__(self, nom, prenom, date_de_naissance):\n",
    "        self.nom = nom\n",
    "        self.prenom = prenom\n",
    "        self.date_de_naissance = date_de_naissance\n",
    "    def afficher(self):\n",
    "        print(\"Nom:\", self.nom, \"\\nPrenom:\", self.prenom, \"\\nDate de naissance:\", DateNaissance.ToString(self.date_de_naissance))\n",
    "class Employe(Personne):\n",
    "    def __init__(self, nom, prenom, date_de_naissance, salaire):\n",
    "        Personne.__init__(self, nom, prenom, date_de_naissance)\n",
    "        self.salaire = salaire\n",
    "    def afficher(self):\n",
    "        Personne.afficher(self)\n",
    "        print(\"Salaire:\", self.salaire)\n",
    "class Chef(Employe):\n",
    "    def __init__(self, nom, prenom, date_de_naissance, salaire, service):\n",
    "        Employe.__init__(self, nom, prenom, date_de_naissance, salaire)     \n",
    "        self.service = service\n",
    "    def afficher(self):\n",
    "        Employe.afficher(self)\n",
    "        print(\"Service:\", self.service)\n",
    "p= Personne(\"Ilyass\",\"Math\",DateNaissance(1,7,1982))\n",
    "p.afficher()\n",
    "e=Employe(\"Ilyass\",\"Math\",DateNaissance(1,7,1985),7865.548)\n",
    "e.afficher()\n",
    "ch=Chef(\"Ilyass\",\"Math\",DateNaissance(1,7,1988),7865.548,\"Ressource humaine\")\n",
    "ch.afficher()"
   ]
  },
  {
   "cell_type": "code",
   "execution_count": null,
   "metadata": {},
   "outputs": [],
   "source": []
  }
 ],
 "metadata": {
  "kernelspec": {
   "display_name": "Python 3",
   "language": "python",
   "name": "python3"
  },
  "language_info": {
   "codemirror_mode": {
    "name": "ipython",
    "version": 3
   },
   "file_extension": ".py",
   "mimetype": "text/x-python",
   "name": "python",
   "nbconvert_exporter": "python",
   "pygments_lexer": "ipython3",
   "version": "3.7.6"
  }
 },
 "nbformat": 4,
 "nbformat_minor": 4
}
