{
 "cells": [
  {
   "cell_type": "code",
   "execution_count": 3,
   "metadata": {},
   "outputs": [
    {
     "name": "stdout",
     "output_type": "stream",
     "text": [
      "Ceci est une méthode sur un objet\n",
      "<__main__.DescriptionDeLObjectBis object at 0x000001D1810D5888>\n",
      "un truc\n",
      "L'objet à bien été crée !\n",
      "La méthode est appelé automatiquement à la déclaration de l'objet\n"
     ]
    }
   ],
   "source": [
    "class DescriptionDeLObject:\n",
    "    def la_methode(objet_en_cours):\n",
    "        print(\"Ceci est une méthode sur un objet\")\n",
    "    pass\n",
    "\n",
    "class DescriptionDeLObjectBis:\n",
    "    def une_methode(objet_en_cours):\n",
    "        return objet_en_cours\n",
    "    pass\n",
    "\n",
    "class UneClasse : \n",
    "    def methode(self): \n",
    "        print('un truc')\n",
    "\n",
    "class UneAutreClass : \n",
    "    def __init__(self) :\n",
    "        print(\"L'objet à bien été crée !\")\n",
    "        print(\"La méthode est appelé automatiquement à la déclaration de l'objet\")\n",
    "MonObjet = DescriptionDeLObject()\n",
    "\n",
    "#print(MonObjet)\n",
    "MonObjet.la_methode()\n",
    "\n",
    "ObjetBis = DescriptionDeLObjectBis() \n",
    "print(ObjetBis.une_methode())\n",
    "\n",
    "ex = UneClasse()\n",
    "ex.methode()\n",
    "\n",
    "x = UneAutreClass()"
   ]
  },
  {
   "cell_type": "code",
   "execution_count": 10,
   "metadata": {},
   "outputs": [
    {
     "name": "stdout",
     "output_type": "stream",
     "text": [
      "(0, 0)\n",
      "(1, 1)\n",
      "(2, 2)\n",
      "(3, 3)\n",
      "(4, 4)\n",
      "(5, 5)\n",
      "[0, 1, 2, 3, 4, 5]\n",
      "5\n"
     ]
    }
   ],
   "source": [
    "liste_origine = [0, 1, 2, 3, 4, 5]\n",
    "\n",
    "for el in enumerate(liste_origine):\n",
    "    print(el)\n",
    "print(liste_origine[:])\n",
    "print(liste_origine[-1])"
   ]
  },
  {
   "cell_type": "code",
   "execution_count": null,
   "metadata": {},
   "outputs": [],
   "source": []
  }
 ],
 "metadata": {
  "kernelspec": {
   "display_name": "Python 3",
   "language": "python",
   "name": "python3"
  },
  "language_info": {
   "codemirror_mode": {
    "name": "ipython",
    "version": 3
   },
   "file_extension": ".py",
   "mimetype": "text/x-python",
   "name": "python",
   "nbconvert_exporter": "python",
   "pygments_lexer": "ipython3",
   "version": "3.7.6"
  }
 },
 "nbformat": 4,
 "nbformat_minor": 4
}
